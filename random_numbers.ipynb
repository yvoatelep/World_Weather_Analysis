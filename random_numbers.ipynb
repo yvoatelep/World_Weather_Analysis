{
 "cells": [
  {
   "cell_type": "code",
   "execution_count": 2,
   "id": "290d0543",
   "metadata": {},
   "outputs": [],
   "source": [
    "#Import the random module\n",
    "import random"
   ]
  },
  {
   "cell_type": "code",
   "execution_count": 3,
   "id": "3364f0ae",
   "metadata": {},
   "outputs": [
    {
     "data": {
      "text/plain": [
       "-78"
      ]
     },
     "execution_count": 3,
     "metadata": {},
     "output_type": "execute_result"
    }
   ],
   "source": [
    "random.randint(-90, 90)\n"
   ]
  },
  {
   "cell_type": "code",
   "execution_count": 4,
   "id": "cdaa6061",
   "metadata": {},
   "outputs": [
    {
     "data": {
      "text/plain": [
       "0.864145738463919"
      ]
     },
     "execution_count": 4,
     "metadata": {},
     "output_type": "execute_result"
    }
   ],
   "source": [
    "random.random()\n"
   ]
  },
  {
   "cell_type": "code",
   "execution_count": 5,
   "id": "eadb72dd",
   "metadata": {},
   "outputs": [
    {
     "data": {
      "text/plain": [
       "-48.685888572863604"
      ]
     },
     "execution_count": 5,
     "metadata": {},
     "output_type": "execute_result"
    }
   ],
   "source": [
    "random_number=random.randint(-90,89)+ random.random()\n",
    "random_number"
   ]
  },
  {
   "cell_type": "code",
   "execution_count": 6,
   "id": "4af386cf",
   "metadata": {
    "scrolled": false
   },
   "outputs": [
    {
     "data": {
      "text/plain": [
       "5.669390691623477"
      ]
     },
     "execution_count": 6,
     "metadata": {},
     "output_type": "execute_result"
    }
   ],
   "source": [
    "random.uniform(-90,90)"
   ]
  },
  {
   "cell_type": "code",
   "execution_count": 7,
   "id": "70e037ab",
   "metadata": {},
   "outputs": [
    {
     "data": {
      "text/plain": [
       "[4.436182017586449,\n",
       " -11.127966014208544,\n",
       " 45.916841603039344,\n",
       " -57.03204012127033,\n",
       " 37.803406454262316,\n",
       " -53.63376511628584,\n",
       " 21.20995952243246,\n",
       " 38.89164644009058,\n",
       " 71.12992941521269,\n",
       " 75.0891207397414]"
      ]
     },
     "execution_count": 7,
     "metadata": {},
     "output_type": "execute_result"
    }
   ],
   "source": [
    "#generate ten random floating-point decimal latitudes between –90 and 89.\n",
    "\n",
    "x = 1\n",
    "\n",
    "latitudes = []\n",
    "while x < 11:\n",
    "    random_lat = random.randint(-90, 89) + random.random()\n",
    "    latitudes.append(random_lat)\n",
    "    x += 1\n",
    "\n",
    "latitudes\n"
   ]
  },
  {
   "cell_type": "code",
   "execution_count": 10,
   "id": "f8cf3975",
   "metadata": {},
   "outputs": [
    {
     "data": {
      "text/plain": [
       "-45"
      ]
     },
     "execution_count": 10,
     "metadata": {},
     "output_type": "execute_result"
    }
   ],
   "source": [
    "#Use  randrange to acheive the goal\n",
    "random.randrange(-90, 90, step=3)"
   ]
  },
  {
   "cell_type": "code",
   "execution_count": 11,
   "id": "578d420d",
   "metadata": {},
   "outputs": [],
   "source": [
    "#Import the NumPy module (Do not need to import random if you import NumPy)\n",
    "import numpy as np\n"
   ]
  },
  {
   "cell_type": "code",
   "execution_count": 12,
   "id": "d3894a41",
   "metadata": {},
   "outputs": [
    {
     "data": {
      "text/plain": [
       "-22.410784162358055"
      ]
     },
     "execution_count": 12,
     "metadata": {},
     "output_type": "execute_result"
    }
   ],
   "source": [
    "#use np.random.uniform(-90.000, 90.000)\n",
    "np.random.uniform(-90.000, 90.000)"
   ]
  },
  {
   "cell_type": "code",
   "execution_count": 18,
   "id": "b206b5bd",
   "metadata": {
    "scrolled": true
   },
   "outputs": [
    {
     "data": {
      "text/plain": [
       "array([ -9.48755325,  30.72074908,  57.49231095,  38.70074076,\n",
       "       -50.79485323, -87.03640579,  19.18164572, -24.74563007,\n",
       "         9.01324648,  71.72241221, -59.75166783, -64.04448563,\n",
       "       -43.1689406 , -16.90087436,  55.30862195, -17.2861947 ,\n",
       "       -82.41749836,  11.66194349, -54.03525222,  15.07072043,\n",
       "       -15.4851462 ,  76.53418125, -56.29751095,  56.10856232,\n",
       "       -34.58996148,  79.35756514,  41.62863638,  45.33977078,\n",
       "       -26.29823834,  -7.5423626 , -55.93748981, -10.41072815,\n",
       "        83.42781609,  67.68820377,  76.20459809,  74.59876847,\n",
       "       -33.478798  , -58.83231567,  10.17170229,  -4.47805593,\n",
       "       -54.80870549, -51.67447586,  41.18292195, -22.11594992,\n",
       "         9.23114184, -32.87584645, -38.29276328,  72.2981186 ,\n",
       "       -37.2769547 ,  44.59151749])"
      ]
     },
     "execution_count": 18,
     "metadata": {},
     "output_type": "execute_result"
    }
   ],
   "source": [
    "#USe random.uniform and size to get multiple numbers in a range\n",
    "np.random.uniform(-90.000, 90.000,size=50)"
   ]
  },
  {
   "cell_type": "code",
   "execution_count": 19,
   "id": "3e8b8eab",
   "metadata": {},
   "outputs": [],
   "source": [
    "# Import timeit.\n",
    "import timeit"
   ]
  },
  {
   "cell_type": "code",
   "execution_count": 17,
   "id": "b16255f5",
   "metadata": {},
   "outputs": [
    {
     "name": "stdout",
     "output_type": "stream",
     "text": [
      "11.9 µs ± 135 ns per loop (mean ± std. dev. of 7 runs, 100000 loops each)\n"
     ]
    }
   ],
   "source": [
    "%timeit np.random.uniform(-90.000, 90.000, size=1500)"
   ]
  },
  {
   "cell_type": "code",
   "execution_count": 20,
   "id": "e9d2f0c4",
   "metadata": {},
   "outputs": [
    {
     "name": "stdout",
     "output_type": "stream",
     "text": [
      "1.39 ms ± 58.7 µs per loop (mean ± std. dev. of 7 runs, 1000 loops each)\n"
     ]
    }
   ],
   "source": [
    "def latitudes(size):\n",
    "    latitudes = []\n",
    "    x = 0\n",
    "    while x < (size):\n",
    "        random_lat = random.randint(-90, 90) + random.random()\n",
    "        latitudes.append(random_lat)\n",
    "        x += 1\n",
    "    return latitudes\n",
    "# Call the function with 1500.\n",
    "%timeit latitudes(1500)"
   ]
  },
  {
   "cell_type": "code",
   "execution_count": 22,
   "id": "11277b33",
   "metadata": {},
   "outputs": [
    {
     "data": {
      "text/plain": [
       "'2.26.0'"
      ]
     },
     "execution_count": 22,
     "metadata": {},
     "output_type": "execute_result"
    }
   ],
   "source": [
    "import requests\n",
    "\n",
    "requests.__version__\n"
   ]
  },
  {
   "cell_type": "code",
   "execution_count": null,
   "id": "2068c1e3",
   "metadata": {},
   "outputs": [],
   "source": []
  }
 ],
 "metadata": {
  "kernelspec": {
   "display_name": "PythonData",
   "language": "python",
   "name": "pythondata"
  },
  "language_info": {
   "codemirror_mode": {
    "name": "ipython",
    "version": 3
   },
   "file_extension": ".py",
   "mimetype": "text/x-python",
   "name": "python",
   "nbconvert_exporter": "python",
   "pygments_lexer": "ipython3",
   "version": "3.7.11"
  }
 },
 "nbformat": 4,
 "nbformat_minor": 5
}
